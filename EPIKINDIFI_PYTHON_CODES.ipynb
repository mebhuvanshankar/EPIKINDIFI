{
  "nbformat": 4,
  "nbformat_minor": 0,
  "metadata": {
    "colab": {
      "provenance": []
    },
    "kernelspec": {
      "name": "python3",
      "display_name": "Python 3"
    },
    "language_info": {
      "name": "python"
    }
  },
  "cells": [
    {
      "cell_type": "code",
      "execution_count": 7,
      "metadata": {
        "colab": {
          "base_uri": "https://localhost:8080/"
        },
        "id": "1TAmJBLfn50S",
        "outputId": "71985335-1205-4633-e928-0a7afee65eca"
      },
      "outputs": [
        {
          "output_type": "stream",
          "name": "stdout",
          "text": [
            "Enter a string: B2H4U3V2A9N0\n",
            "Processed string: B H U V A N\n"
          ]
        }
      ],
      "source": [
        "import re\n",
        "user_input = input(\"Enter a string: \")\n",
        "result = re.sub(r'[^a-zA-Z\\s]', ' ', user_input)\n",
        "result = re.sub(r'\\s+', ' ', result).strip()\n",
        "print(\"Processed string:\", result)\n"
      ]
    },
    {
      "cell_type": "code",
      "source": [
        "def transform_string(input_str):\n",
        "    if len(input_str) % 2 == 1:\n",
        "        mid = len(input_str) // 2\n",
        "        return input_str[:mid + 1].upper() + input_str[mid + 1:].lower()\n",
        "    else:\n",
        "        return input_str\n",
        "test_strings = [\"oriJenBeliret\", \"orionmeo\"]\n",
        "for s in test_strings:\n",
        "    transformed = transform_string(s)\n",
        "    print(f\"Actual string: {s} - Transformed string: {transformed}\")\n"
      ],
      "metadata": {
        "colab": {
          "base_uri": "https://localhost:8080/"
        },
        "id": "FClcdHwBrWo2",
        "outputId": "11794785-c426-4a61-e526-07f62d9404fb"
      },
      "execution_count": 8,
      "outputs": [
        {
          "output_type": "stream",
          "name": "stdout",
          "text": [
            "Actual string: oriJenBeliret - Transformed string: ORIJENBeliret\n",
            "Actual string: orionmeo - Transformed string: orionmeo\n"
          ]
        }
      ]
    },
    {
      "cell_type": "code",
      "source": [
        "\n",
        "def find_second_and_fourth_largest(numbers):\n",
        "    unique_numbers = sorted(set(numbers), reverse=True)\n",
        "    if len(unique_numbers) < 4:\n",
        "        return \"Error: Not enough unique numbers to find second and fourth largest.\"\n",
        "    return f\"Second largest: {unique_numbers[1]}, Fourth largest: {unique_numbers[3]}\"\n",
        "try:\n",
        "    numbers = list(map(int, input(\"Enter numbers separated by spaces: \").split()))\n",
        "    print(find_second_and_fourth_largest(numbers))\n",
        "except ValueError:\n",
        "    print(\"Error: Enter only integers.\")"
      ],
      "metadata": {
        "colab": {
          "base_uri": "https://localhost:8080/"
        },
        "id": "XQU4f1DqsUFL",
        "outputId": "67db670c-dfd7-4cef-b682-5681935727cf"
      },
      "execution_count": 9,
      "outputs": [
        {
          "output_type": "stream",
          "name": "stdout",
          "text": [
            "Enter numbers separated by spaces: 2 3 4 5 6\n",
            "Second largest: 5, Fourth largest: 3\n"
          ]
        }
      ]
    }
  ]
}